{
 "cells": [
  {
   "cell_type": "code",
   "execution_count": 342,
   "id": "22268402",
   "metadata": {},
   "outputs": [],
   "source": [
    "import matplotlib.pyplot as plt\n",
    "A = [[1,1],[2,4],[3,2],[3,3],[5,2],[8,4],[10,8],[2,8],[4,5],[4,7],[10,2],[6,2]]   \n",
    "B =[(21,28),(28,21),(23,29),(25,28),(28,26),(23,21),(27,24),(29,28),(24,24),(22,22),(25,27),(24,26),(29,25)] "
   ]
  },
  {
   "cell_type": "code",
   "execution_count": 343,
   "id": "b0e0457a",
   "metadata": {},
   "outputs": [
    {
     "name": "stdout",
     "output_type": "stream",
     "text": [
      "class A with noise:  [[1, 1], [2, 4], [3, 2], [3, 3], [5, 2], [8, 4], [10, 8], [2, 8], [4, 5], [4, 7], [10, 2], [6, 2], [17, 20], [13, 13], [10, 10], [12, 21], [21, 14]]\n",
      "class B with noise:  [(21, 28), (28, 21), (23, 29), (25, 28), (28, 26), (23, 21), (27, 24), (29, 28), (24, 24), (22, 22), (25, 27), (24, 26), (29, 25), [12, 13], [15, 22], [20, 20], [22, 21], [19, 19]]\n"
     ]
    },
    {
     "data": {
      "text/plain": [
       "[<matplotlib.lines.Line2D at 0x7fdd1fac9100>]"
      ]
     },
     "execution_count": 343,
     "metadata": {},
     "output_type": "execute_result"
    },
    {
     "data": {
      "image/png": "[encoded data removed]",
      "text/plain": [
       "<Figure size 432x288 with 1 Axes>"
      ]
     },
     "metadata": {
      "needs_background": "light"
     },
     "output_type": "display_data"
    }
   ],
   "source": [
    "#generating random data points for noise\n",
    "nAx=random.sample(range(10, 23), 5)\n",
    "nAy=random.sample(range(10, 23), 5)\n",
    "nBx=random.sample(range(10, 23), 5)\n",
    "nBy=random.sample(range(10, 23), 5)\n",
    "\n",
    "nA=[]\n",
    "for i in range(len(nAx)):\n",
    "    nA=[nAx[i],nAy[i]]\n",
    "    A.append(nA)\n",
    "    i+=1\n",
    "print(\"class A with noise: \",A)\n",
    "\n",
    "\n",
    "nB=[]\n",
    "for i in range(len(nBx)):\n",
    "    nB=[nBx[i],nBy[i]]\n",
    "    B.append(nB)\n",
    "    i+=1\n",
    "print(\"class B with noise: \",B)\n",
    "\n",
    "#extracting x,y coordinates from class A to plot graph\n",
    "xA=[]\n",
    "yA=[]\n",
    "for i in range(len(A)):\n",
    "    xA.append(A[i][0])\n",
    "    yA.append(A[i][1])\n",
    "    i+=1 \n",
    "\n",
    "#extracting x,y coordinates from class B to plot graph    \n",
    "xB=[] \n",
    "yB=[]\n",
    "for i in range(len(B)):\n",
    "    xB.append(B[i][0])\n",
    "    yB.append(B[i][1])\n",
    "    i+=1 \n",
    "\n",
    "    \n",
    "plt.plot(xA, yA, linestyle='none', linewidth = 3,\n",
    "         marker='o', markerfacecolor='blue', markersize=12)\n",
    "plt.plot(xB,yB, linestyle='none', linewidth = 3,\n",
    "         marker='o', markerfacecolor='green', markersize=12)\n"
   ]
  },
  {
   "cell_type": "code",
   "execution_count": 344,
   "id": "b6749217",
   "metadata": {},
   "outputs": [
    {
     "name": "stdout",
     "output_type": "stream",
     "text": [
      "x coordinate: 5\n",
      "y coordinate: 6\n",
      "[(6.4031242374328485, 'A'), (3.605551275463989, 'A'), (4.47213595499958, 'A'), (3.605551275463989, 'A'), (4.0, 'A'), (3.605551275463989, 'A'), (5.385164807134504, 'A'), (3.605551275463989, 'A'), (1.4142135623730951, 'A'), (1.4142135623730951, 'A'), (6.4031242374328485, 'A'), (4.123105625617661, 'A'), (18.439088914585774, 'A'), (10.63014581273465, 'A'), (6.4031242374328485, 'A'), (16.55294535724685, 'A'), (17.88854381999832, 'A'), (27.202941017470888, 'B'), (27.459060435491963, 'B'), (29.206163733020468, 'B'), (29.732137494637012, 'B'), (30.479501308256342, 'B'), (23.430749027719962, 'B'), (28.42534080710379, 'B'), (32.55764119219941, 'B'), (26.1725046566048, 'B'), (23.345235059857504, 'B'), (29.0, 'B'), (27.586228448267445, 'B'), (30.610455730027933, 'B'), (9.899494936611665, 'B'), (18.867962264113206, 'B'), (20.518284528683193, 'B'), (22.67156809750927, 'B'), (19.1049731745428, 'B')]\n",
      "35\n"
     ]
    }
   ],
   "source": [
    "#input test vector\n",
    "testx=int(input(\"x coordinate: \"))\n",
    "testy=int(input(\"y coordinate: \"))\n",
    "\n",
    "test=[testx,testy]\n",
    "dist_test=[]\n",
    "for i in range(len(xA)):\n",
    "    distA=((test[0]-xA[i])**2 + (test[1]-yA[i])**2)**0.5\n",
    "    dist_test.append((distA,\"A\"))\n",
    "    i+=1\n",
    "\n",
    "\n",
    "for i in range(len(xB)):\n",
    "    distB=((test[0]-xB[i])**2 + (test[1]-yB[i])**2)**0.5\n",
    "    dist_test.append((distB,\"B\"))\n",
    "    i+=1\n",
    "print(dist_test)\n",
    "print(len(dist_test))\n"
   ]
  },
  {
   "cell_type": "code",
   "execution_count": 345,
   "id": "7c942532",
   "metadata": {},
   "outputs": [
    {
     "data": {
      "text/plain": [
       "[<matplotlib.lines.Line2D at 0x7fdd21bb48e0>]"
      ]
     },
     "execution_count": 345,
     "metadata": {},
     "output_type": "execute_result"
    },
    {
     "data": {
      "image/png": "[encoded data removed]",
      "text/plain": [
       "<Figure size 432x288 with 1 Axes>"
      ]
     },
     "metadata": {
      "needs_background": "light"
     },
     "output_type": "display_data"
    }
   ],
   "source": [
    "plt.plot(xA, yA, linestyle='none', linewidth = 3,\n",
    "         marker='o', markerfacecolor='blue', markersize=12)\n",
    "plt.plot(xB,yB, linestyle='none', linewidth = 3,\n",
    "         marker='o', markerfacecolor='green', markersize=12)\n",
    "plt.plot(testx,testy, linestyle='none', linewidth = 3,\n",
    "         marker='o', markerfacecolor='yellow', markersize=12)"
   ]
  },
  {
   "cell_type": "code",
   "execution_count": 346,
   "id": "62651e0b",
   "metadata": {},
   "outputs": [
    {
     "name": "stdout",
     "output_type": "stream",
     "text": [
      "value of k (should be odd): 7\n",
      "[(1.4142135623730951, 'A'), (1.4142135623730951, 'A'), (3.605551275463989, 'A'), (3.605551275463989, 'A'), (3.605551275463989, 'A'), (3.605551275463989, 'A'), (4.0, 'A')]\n"
     ]
    }
   ],
   "source": [
    "dist_test.sort()\n",
    "k=int(input(\"value of k (should be odd): \"))\n",
    "num=dist_test[:k]\n",
    "print(num)"
   ]
  },
  {
   "cell_type": "code",
   "execution_count": 347,
   "id": "d09366e2",
   "metadata": {},
   "outputs": [
    {
     "name": "stdout",
     "output_type": "stream",
     "text": [
      "test point belongs to A\n"
     ]
    }
   ],
   "source": [
    "ctrA=0\n",
    "ctrB=0\n",
    "for i in range(k):\n",
    "    if dist_test[i][1] == 'A':\n",
    "        ctrA+=1\n",
    "    else:\n",
    "        ctrB+=1\n",
    "if ctrA>ctrB:\n",
    "    print(\"test point belongs to A\")\n",
    "else:\n",
    "    print(\"test point belongs to B\")"
   ]
  },
  {
   "cell_type": "code",
   "execution_count": 348,
   "id": "3a01fbbb",
   "metadata": {},
   "outputs": [
    {
     "name": "stdout",
     "output_type": "stream",
     "text": [
      "x coordinate: 5\n",
      "y coordinate: 6\n",
      "enter value of k: 7\n",
      "[(1.4142135623730951, 'A'), (1.4142135623730951, 'A'), (3.605551275463989, 'A'), (3.605551275463989, 'A'), (3.605551275463989, 'A'), (3.605551275463989, 'A'), (4.0, 'A')]\n"
     ]
    },
    {
     "data": {
      "text/plain": [
       "'A'"
      ]
     },
     "execution_count": 348,
     "metadata": {},
     "output_type": "execute_result"
    }
   ],
   "source": [
    "    \n",
    "def knnfunction(test,k):\n",
    "    \n",
    "    \n",
    "    #plt.plot(xA, yA, color='green', linestyle='none', linewidth = 3,\n",
    "         #marker='o', markerfacecolor='blue', markersize=12)\n",
    "    #plt.plot(xB, yB, color='green', linestyle='none', linewidth = 3,\n",
    "         #marker='o', markerfacecolor='green', markersize=12)\n",
    "    #plt.plot(testx,testy, color='green', linestyle='none', linewidth = 3,\n",
    "         #marker='o', markerfacecolor='yellow', markersize=12)\n",
    "\n",
    "    #compute distance of vector test from all points of class A and class B\n",
    "    dist_test=[]\n",
    "    for i in range(len(xA)):\n",
    "        distA=((test[0]-xA[i])**2 + (test[1]-yA[i])**2)**0.5\n",
    "        dist_test.append((distA,\"A\"))\n",
    "        i+=1\n",
    "\n",
    "\n",
    "    for i in range(len(xB)):\n",
    "        distB=((test[0]-xB[i])**2 + (test[1]-yB[i])**2)**0.5\n",
    "        dist_test.append((distB,\"B\"))\n",
    "        i+=1\n",
    "\n",
    "\n",
    "    \n",
    "    #sort the values of distance vector\n",
    "    dist_test.sort()\n",
    "    num=dist_test[:k]\n",
    "    print(num)\n",
    "    \n",
    "    #counting number of values belonging to class A and B, and comparing\n",
    "    ctrA=0\n",
    "    ctrB=0\n",
    "    for i in range(k):\n",
    "        if dist_test[i][1] == 'A':\n",
    "            ctrA+=1\n",
    "        else:\n",
    "            ctrB+=1\n",
    "    if ctrA>ctrB:\n",
    "        result= \"A\"\n",
    "    else:\n",
    "        result=\"B\"\n",
    "\n",
    "    return(result)\n",
    "\n",
    "testx=int(input(\"x coordinate: \"))\n",
    "testy=int(input(\"y coordinate: \"))\n",
    "test=[testx,testy]\n",
    "\n",
    "k=int(input(\"enter value of k: \"))\n",
    "knnfunction(test,k)\n"
   ]
  },
  {
   "cell_type": "code",
   "execution_count": 349,
   "id": "590d8a14",
   "metadata": {},
   "outputs": [
    {
     "name": "stdout",
     "output_type": "stream",
     "text": [
      "[[1, 1], [2, 4], [3, 2], [3, 3], [5, 2], [8, 4], [10, 8], [2, 8], [4, 5], [4, 7], [10, 2], [6, 2], [17, 20], [13, 13], [10, 10], [12, 21], [21, 14]]\n",
      "point:  [1, 1]\n",
      "[[2, 4], [3, 2], [3, 3], [5, 2], [8, 4], [10, 8], [2, 8], [4, 5], [4, 7], [10, 2], [6, 2], [17, 20], [13, 13], [10, 10], [12, 21], [21, 14]]\n",
      "[(0.0, 'A'), (2.23606797749979, 'A'), (2.8284271247461903, 'A'), (3.1622776601683795, 'A'), (4.123105625617661, 'A')]\n",
      "[[2, 4], [3, 2], [3, 3], [5, 2], [8, 4], [10, 8], [2, 8], [4, 5], [4, 7], [10, 2], [6, 2], [17, 20], [13, 13], [10, 10], [12, 21], [21, 14], [1, 1]]\n",
      "point:  [2, 4]\n",
      "[[3, 2], [3, 3], [5, 2], [8, 4], [10, 8], [2, 8], [4, 5], [4, 7], [10, 2], [6, 2], [17, 20], [13, 13], [10, 10], [12, 21], [21, 14], [1, 1]]\n",
      "[(0.0, 'A'), (1.4142135623730951, 'A'), (2.23606797749979, 'A'), (2.23606797749979, 'A'), (3.1622776601683795, 'A')]\n",
      "[[3, 2], [3, 3], [5, 2], [8, 4], [10, 8], [2, 8], [4, 5], [4, 7], [10, 2], [6, 2], [17, 20], [13, 13], [10, 10], [12, 21], [21, 14], [1, 1], [2, 4]]\n",
      "point:  [3, 2]\n",
      "[[3, 3], [5, 2], [8, 4], [10, 8], [2, 8], [4, 5], [4, 7], [10, 2], [6, 2], [17, 20], [13, 13], [10, 10], [12, 21], [21, 14], [1, 1], [2, 4]]\n",
      "[(0.0, 'A'), (1.0, 'A'), (2.0, 'A'), (2.23606797749979, 'A'), (2.23606797749979, 'A')]\n",
      "[[3, 3], [5, 2], [8, 4], [10, 8], [2, 8], [4, 5], [4, 7], [10, 2], [6, 2], [17, 20], [13, 13], [10, 10], [12, 21], [21, 14], [1, 1], [2, 4], [3, 2]]\n",
      "point:  [3, 3]\n",
      "[[5, 2], [8, 4], [10, 8], [2, 8], [4, 5], [4, 7], [10, 2], [6, 2], [17, 20], [13, 13], [10, 10], [12, 21], [21, 14], [1, 1], [2, 4], [3, 2]]\n",
      "[(0.0, 'A'), (1.0, 'A'), (1.4142135623730951, 'A'), (2.23606797749979, 'A'), (2.23606797749979, 'A')]\n",
      "[[5, 2], [8, 4], [10, 8], [2, 8], [4, 5], [4, 7], [10, 2], [6, 2], [17, 20], [13, 13], [10, 10], [12, 21], [21, 14], [1, 1], [2, 4], [3, 2], [3, 3]]\n",
      "point:  [5, 2]\n",
      "[[8, 4], [10, 8], [2, 8], [4, 5], [4, 7], [10, 2], [6, 2], [17, 20], [13, 13], [10, 10], [12, 21], [21, 14], [1, 1], [2, 4], [3, 2], [3, 3]]\n",
      "[(0.0, 'A'), (1.0, 'A'), (2.0, 'A'), (2.23606797749979, 'A'), (3.1622776601683795, 'A')]\n",
      "[[8, 4], [10, 8], [2, 8], [4, 5], [4, 7], [10, 2], [6, 2], [17, 20], [13, 13], [10, 10], [12, 21], [21, 14], [1, 1], [2, 4], [3, 2], [3, 3], [5, 2]]\n",
      "point:  [8, 4]\n",
      "[[10, 8], [2, 8], [4, 5], [4, 7], [10, 2], [6, 2], [17, 20], [13, 13], [10, 10], [12, 21], [21, 14], [1, 1], [2, 4], [3, 2], [3, 3], [5, 2]]\n",
      "[(0.0, 'A'), (2.8284271247461903, 'A'), (2.8284271247461903, 'A'), (3.605551275463989, 'A'), (4.123105625617661, 'A')]\n",
      "[[10, 8], [2, 8], [4, 5], [4, 7], [10, 2], [6, 2], [17, 20], [13, 13], [10, 10], [12, 21], [21, 14], [1, 1], [2, 4], [3, 2], [3, 3], [5, 2], [8, 4]]\n",
      "point:  [10, 8]\n",
      "[[2, 8], [4, 5], [4, 7], [10, 2], [6, 2], [17, 20], [13, 13], [10, 10], [12, 21], [21, 14], [1, 1], [2, 4], [3, 2], [3, 3], [5, 2], [8, 4]]\n",
      "[(0.0, 'A'), (2.0, 'A'), (4.47213595499958, 'A'), (5.385164807134504, 'B'), (5.830951894845301, 'A')]\n",
      "[[2, 8], [4, 5], [4, 7], [10, 2], [6, 2], [17, 20], [13, 13], [10, 10], [12, 21], [21, 14], [1, 1], [2, 4], [3, 2], [3, 3], [5, 2], [8, 4], [10, 8]]\n",
      "point:  [2, 8]\n",
      "[[4, 5], [4, 7], [10, 2], [6, 2], [17, 20], [13, 13], [10, 10], [12, 21], [21, 14], [1, 1], [2, 4], [3, 2], [3, 3], [5, 2], [8, 4], [10, 8]]\n",
      "[(0.0, 'A'), (2.23606797749979, 'A'), (3.605551275463989, 'A'), (4.0, 'A'), (5.0990195135927845, 'A')]\n",
      "[[4, 5], [4, 7], [10, 2], [6, 2], [17, 20], [13, 13], [10, 10], [12, 21], [21, 14], [1, 1], [2, 4], [3, 2], [3, 3], [5, 2], [8, 4], [10, 8], [2, 8]]\n",
      "point:  [4, 5]\n",
      "[[4, 7], [10, 2], [6, 2], [17, 20], [13, 13], [10, 10], [12, 21], [21, 14], [1, 1], [2, 4], [3, 2], [3, 3], [5, 2], [8, 4], [10, 8], [2, 8]]\n",
      "[(0.0, 'A'), (2.0, 'A'), (2.23606797749979, 'A'), (2.23606797749979, 'A'), (3.1622776601683795, 'A')]\n",
      "[[4, 7], [10, 2], [6, 2], [17, 20], [13, 13], [10, 10], [12, 21], [21, 14], [1, 1], [2, 4], [3, 2], [3, 3], [5, 2], [8, 4], [10, 8], [2, 8], [4, 5]]\n",
      "point:  [4, 7]\n",
      "[[10, 2], [6, 2], [17, 20], [13, 13], [10, 10], [12, 21], [21, 14], [1, 1], [2, 4], [3, 2], [3, 3], [5, 2], [8, 4], [10, 8], [2, 8], [4, 5]]\n",
      "[(0.0, 'A'), (2.0, 'A'), (2.23606797749979, 'A'), (3.605551275463989, 'A'), (4.123105625617661, 'A')]\n",
      "[[10, 2], [6, 2], [17, 20], [13, 13], [10, 10], [12, 21], [21, 14], [1, 1], [2, 4], [3, 2], [3, 3], [5, 2], [8, 4], [10, 8], [2, 8], [4, 5], [4, 7]]\n",
      "point:  [10, 2]\n",
      "[[6, 2], [17, 20], [13, 13], [10, 10], [12, 21], [21, 14], [1, 1], [2, 4], [3, 2], [3, 3], [5, 2], [8, 4], [10, 8], [2, 8], [4, 5], [4, 7]]\n",
      "[(0.0, 'A'), (2.8284271247461903, 'A'), (4.0, 'A'), (5.0, 'A'), (6.0, 'A')]\n",
      "[[6, 2], [17, 20], [13, 13], [10, 10], [12, 21], [21, 14], [1, 1], [2, 4], [3, 2], [3, 3], [5, 2], [8, 4], [10, 8], [2, 8], [4, 5], [4, 7], [10, 2]]\n",
      "point:  [6, 2]\n",
      "[[17, 20], [13, 13], [10, 10], [12, 21], [21, 14], [1, 1], [2, 4], [3, 2], [3, 3], [5, 2], [8, 4], [10, 8], [2, 8], [4, 5], [4, 7], [10, 2]]\n",
      "[(0.0, 'A'), (1.0, 'A'), (2.8284271247461903, 'A'), (3.0, 'A'), (3.1622776601683795, 'A')]\n",
      "[[17, 20], [13, 13], [10, 10], [12, 21], [21, 14], [1, 1], [2, 4], [3, 2], [3, 3], [5, 2], [8, 4], [10, 8], [2, 8], [4, 5], [4, 7], [10, 2], [6, 2]]\n",
      "point:  [17, 20]\n",
      "[[13, 13], [10, 10], [12, 21], [21, 14], [1, 1], [2, 4], [3, 2], [3, 3], [5, 2], [8, 4], [10, 8], [2, 8], [4, 5], [4, 7], [10, 2], [6, 2]]\n",
      "[(0.0, 'A'), (2.23606797749979, 'B'), (2.8284271247461903, 'B'), (3.0, 'B'), (5.0990195135927845, 'A')]\n",
      "point removed : [17, 20]\n",
      "[[13, 13], [10, 10], [12, 21], [21, 14], [1, 1], [2, 4], [3, 2], [3, 3], [5, 2], [8, 4], [10, 8], [2, 8], [4, 5], [4, 7], [10, 2], [6, 2]]\n",
      "point:  [13, 13]\n",
      "[[10, 10], [12, 21], [21, 14], [1, 1], [2, 4], [3, 2], [3, 3], [5, 2], [8, 4], [10, 8], [2, 8], [4, 5], [4, 7], [10, 2], [6, 2]]\n",
      "[(0.0, 'A'), (1.0, 'B'), (4.242640687119285, 'A'), (5.830951894845301, 'A'), (8.06225774829855, 'A')]\n",
      "[[10, 10], [12, 21], [21, 14], [1, 1], [2, 4], [3, 2], [3, 3], [5, 2], [8, 4], [10, 8], [2, 8], [4, 5], [4, 7], [10, 2], [6, 2], [13, 13]]\n",
      "point:  [10, 10]\n",
      "[[12, 21], [21, 14], [1, 1], [2, 4], [3, 2], [3, 3], [5, 2], [8, 4], [10, 8], [2, 8], [4, 5], [4, 7], [10, 2], [6, 2], [13, 13]]\n",
      "[(0.0, 'A'), (2.0, 'A'), (3.605551275463989, 'B'), (4.242640687119285, 'A'), (6.324555320336759, 'A')]\n",
      "[[12, 21], [21, 14], [1, 1], [2, 4], [3, 2], [3, 3], [5, 2], [8, 4], [10, 8], [2, 8], [4, 5], [4, 7], [10, 2], [6, 2], [13, 13], [10, 10]]\n",
      "point:  [12, 21]\n",
      "[[21, 14], [1, 1], [2, 4], [3, 2], [3, 3], [5, 2], [8, 4], [10, 8], [2, 8], [4, 5], [4, 7], [10, 2], [6, 2], [13, 13], [10, 10]]\n",
      "[(0.0, 'A'), (3.1622776601683795, 'B'), (5.0990195135927845, 'A'), (7.280109889280518, 'B'), (8.0, 'B')]\n",
      "point removed : [12, 21]\n",
      "class A without noise:  [[21, 14], [1, 1], [2, 4], [3, 2], [3, 3], [5, 2], [8, 4], [10, 8], [2, 8], [4, 5], [4, 7], [10, 2], [6, 2], [13, 13], [10, 10]]\n"
     ]
    },
    {
     "data": {
      "text/plain": [
       "[<matplotlib.lines.Line2D at 0x7fdd21bde2b0>,\n",
       " <matplotlib.lines.Line2D at 0x7fdd21bde340>]"
      ]
     },
     "execution_count": 349,
     "metadata": {},
     "output_type": "execute_result"
    },
    {
     "data": {
      "image/png": "[encoded data removed]",
      "text/plain": [
       "<Figure size 432x288 with 1 Axes>"
      ]
     },
     "metadata": {
      "needs_background": "light"
     },
     "output_type": "display_data"
    }
   ],
   "source": [
    "import numpy as np\n",
    "\n",
    "point=[]\n",
    "for i in range(0,len(A)-1):\n",
    "    print(A)\n",
    "    point=A[0]\n",
    "    print(\"point: \",point)\n",
    "    del A[0]  \n",
    "    print(A)\n",
    "    i+=1\n",
    "    if knnfunction(point,5)==\"A\":\n",
    "        A.append(point)\n",
    "    else:\n",
    "        print(\"point removed :\", point)\n",
    "        \n",
    "        \n",
    "print(\"class A without noise: \", A)    \n",
    "\n",
    "plt.plot(A, color='green', linestyle='none', linewidth = 3,\n",
    "         marker='o', markerfacecolor='blue', markersize=12)\n",
    "\n",
    "    "
   ]
  },
  {
   "cell_type": "code",
   "execution_count": 350,
   "id": "0d757c65",
   "metadata": {},
   "outputs": [
    {
     "name": "stdout",
     "output_type": "stream",
     "text": [
      "[(21, 28), (28, 21), (23, 29), (25, 28), (28, 26), (23, 21), (27, 24), (29, 28), (24, 24), (22, 22), (25, 27), (24, 26), (29, 25), [12, 13], [15, 22], [20, 20], [22, 21], [19, 19]]\n",
      "point:  (21, 28)\n",
      "[(28, 21), (23, 29), (25, 28), (28, 26), (23, 21), (27, 24), (29, 28), (24, 24), (22, 22), (25, 27), (24, 26), (29, 25), [12, 13], [15, 22], [20, 20], [22, 21], [19, 19]]\n",
      "[(0.0, 'B'), (2.23606797749979, 'B'), (3.605551275463989, 'B'), (4.0, 'B'), (4.123105625617661, 'B')]\n",
      "[(28, 21), (23, 29), (25, 28), (28, 26), (23, 21), (27, 24), (29, 28), (24, 24), (22, 22), (25, 27), (24, 26), (29, 25), [12, 13], [15, 22], [20, 20], [22, 21], [19, 19], (21, 28)]\n",
      "point:  (28, 21)\n",
      "[(23, 29), (25, 28), (28, 26), (23, 21), (27, 24), (29, 28), (24, 24), (22, 22), (25, 27), (24, 26), (29, 25), [12, 13], [15, 22], [20, 20], [22, 21], [19, 19], (21, 28)]\n",
      "[(0.0, 'B'), (3.1622776601683795, 'B'), (4.123105625617661, 'B'), (5.0, 'B'), (5.0, 'B')]\n",
      "[(23, 29), (25, 28), (28, 26), (23, 21), (27, 24), (29, 28), (24, 24), (22, 22), (25, 27), (24, 26), (29, 25), [12, 13], [15, 22], [20, 20], [22, 21], [19, 19], (21, 28), (28, 21)]\n",
      "point:  (23, 29)\n",
      "[(25, 28), (28, 26), (23, 21), (27, 24), (29, 28), (24, 24), (22, 22), (25, 27), (24, 26), (29, 25), [12, 13], [15, 22], [20, 20], [22, 21], [19, 19], (21, 28), (28, 21)]\n",
      "[(0.0, 'B'), (2.23606797749979, 'B'), (2.23606797749979, 'B'), (2.8284271247461903, 'B'), (3.1622776601683795, 'B')]\n",
      "[(25, 28), (28, 26), (23, 21), (27, 24), (29, 28), (24, 24), (22, 22), (25, 27), (24, 26), (29, 25), [12, 13], [15, 22], [20, 20], [22, 21], [19, 19], (21, 28), (28, 21), (23, 29)]\n",
      "point:  (25, 28)\n",
      "[(28, 26), (23, 21), (27, 24), (29, 28), (24, 24), (22, 22), (25, 27), (24, 26), (29, 25), [12, 13], [15, 22], [20, 20], [22, 21], [19, 19], (21, 28), (28, 21), (23, 29)]\n",
      "[(0.0, 'B'), (1.0, 'B'), (2.23606797749979, 'B'), (2.23606797749979, 'B'), (3.605551275463989, 'B')]\n",
      "[(28, 26), (23, 21), (27, 24), (29, 28), (24, 24), (22, 22), (25, 27), (24, 26), (29, 25), [12, 13], [15, 22], [20, 20], [22, 21], [19, 19], (21, 28), (28, 21), (23, 29), (25, 28)]\n",
      "point:  (28, 26)\n",
      "[(23, 21), (27, 24), (29, 28), (24, 24), (22, 22), (25, 27), (24, 26), (29, 25), [12, 13], [15, 22], [20, 20], [22, 21], [19, 19], (21, 28), (28, 21), (23, 29), (25, 28)]\n",
      "[(0.0, 'B'), (1.4142135623730951, 'B'), (2.23606797749979, 'B'), (2.23606797749979, 'B'), (3.1622776601683795, 'B')]\n",
      "[(23, 21), (27, 24), (29, 28), (24, 24), (22, 22), (25, 27), (24, 26), (29, 25), [12, 13], [15, 22], [20, 20], [22, 21], [19, 19], (21, 28), (28, 21), (23, 29), (25, 28), (28, 26)]\n",
      "point:  (23, 21)\n",
      "[(27, 24), (29, 28), (24, 24), (22, 22), (25, 27), (24, 26), (29, 25), [12, 13], [15, 22], [20, 20], [22, 21], [19, 19], (21, 28), (28, 21), (23, 29), (25, 28), (28, 26)]\n",
      "[(0.0, 'B'), (1.0, 'B'), (1.4142135623730951, 'B'), (3.1622776601683795, 'B'), (3.1622776601683795, 'B')]\n",
      "[(27, 24), (29, 28), (24, 24), (22, 22), (25, 27), (24, 26), (29, 25), [12, 13], [15, 22], [20, 20], [22, 21], [19, 19], (21, 28), (28, 21), (23, 29), (25, 28), (28, 26), (23, 21)]\n",
      "point:  (27, 24)\n",
      "[(29, 28), (24, 24), (22, 22), (25, 27), (24, 26), (29, 25), [12, 13], [15, 22], [20, 20], [22, 21], [19, 19], (21, 28), (28, 21), (23, 29), (25, 28), (28, 26), (23, 21)]\n",
      "[(0.0, 'B'), (2.23606797749979, 'B'), (2.23606797749979, 'B'), (3.0, 'B'), (3.1622776601683795, 'B')]\n",
      "[(29, 28), (24, 24), (22, 22), (25, 27), (24, 26), (29, 25), [12, 13], [15, 22], [20, 20], [22, 21], [19, 19], (21, 28), (28, 21), (23, 29), (25, 28), (28, 26), (23, 21), (27, 24)]\n",
      "point:  (29, 28)\n",
      "[(24, 24), (22, 22), (25, 27), (24, 26), (29, 25), [12, 13], [15, 22], [20, 20], [22, 21], [19, 19], (21, 28), (28, 21), (23, 29), (25, 28), (28, 26), (23, 21), (27, 24)]\n",
      "[(0.0, 'B'), (2.23606797749979, 'B'), (3.0, 'B'), (4.0, 'B'), (4.123105625617661, 'B')]\n",
      "[(24, 24), (22, 22), (25, 27), (24, 26), (29, 25), [12, 13], [15, 22], [20, 20], [22, 21], [19, 19], (21, 28), (28, 21), (23, 29), (25, 28), (28, 26), (23, 21), (27, 24), (29, 28)]\n",
      "point:  (24, 24)\n",
      "[(22, 22), (25, 27), (24, 26), (29, 25), [12, 13], [15, 22], [20, 20], [22, 21], [19, 19], (21, 28), (28, 21), (23, 29), (25, 28), (28, 26), (23, 21), (27, 24), (29, 28)]\n",
      "[(0.0, 'B'), (2.0, 'B'), (2.8284271247461903, 'B'), (3.0, 'B'), (3.1622776601683795, 'B')]\n",
      "[(22, 22), (25, 27), (24, 26), (29, 25), [12, 13], [15, 22], [20, 20], [22, 21], [19, 19], (21, 28), (28, 21), (23, 29), (25, 28), (28, 26), (23, 21), (27, 24), (29, 28), (24, 24)]\n",
      "point:  (22, 22)\n",
      "[(25, 27), (24, 26), (29, 25), [12, 13], [15, 22], [20, 20], [22, 21], [19, 19], (21, 28), (28, 21), (23, 29), (25, 28), (28, 26), (23, 21), (27, 24), (29, 28), (24, 24)]\n",
      "[(0.0, 'B'), (1.0, 'B'), (1.4142135623730951, 'B'), (2.8284271247461903, 'B'), (2.8284271247461903, 'B')]\n",
      "[(25, 27), (24, 26), (29, 25), [12, 13], [15, 22], [20, 20], [22, 21], [19, 19], (21, 28), (28, 21), (23, 29), (25, 28), (28, 26), (23, 21), (27, 24), (29, 28), (24, 24), (22, 22)]\n",
      "point:  (25, 27)\n",
      "[(24, 26), (29, 25), [12, 13], [15, 22], [20, 20], [22, 21], [19, 19], (21, 28), (28, 21), (23, 29), (25, 28), (28, 26), (23, 21), (27, 24), (29, 28), (24, 24), (22, 22)]\n",
      "[(0.0, 'B'), (1.0, 'B'), (1.4142135623730951, 'B'), (2.8284271247461903, 'B'), (3.1622776601683795, 'B')]\n",
      "[(24, 26), (29, 25), [12, 13], [15, 22], [20, 20], [22, 21], [19, 19], (21, 28), (28, 21), (23, 29), (25, 28), (28, 26), (23, 21), (27, 24), (29, 28), (24, 24), (22, 22), (25, 27)]\n",
      "point:  (24, 26)\n",
      "[(29, 25), [12, 13], [15, 22], [20, 20], [22, 21], [19, 19], (21, 28), (28, 21), (23, 29), (25, 28), (28, 26), (23, 21), (27, 24), (29, 28), (24, 24), (22, 22), (25, 27)]\n",
      "[(0.0, 'B'), (1.4142135623730951, 'B'), (2.0, 'B'), (2.23606797749979, 'B'), (3.1622776601683795, 'B')]\n",
      "[(29, 25), [12, 13], [15, 22], [20, 20], [22, 21], [19, 19], (21, 28), (28, 21), (23, 29), (25, 28), (28, 26), (23, 21), (27, 24), (29, 28), (24, 24), (22, 22), (25, 27), (24, 26)]\n",
      "point:  (29, 25)\n",
      "[[12, 13], [15, 22], [20, 20], [22, 21], [19, 19], (21, 28), (28, 21), (23, 29), (25, 28), (28, 26), (23, 21), (27, 24), (29, 28), (24, 24), (22, 22), (25, 27), (24, 26)]\n",
      "[(0.0, 'B'), (1.4142135623730951, 'B'), (2.23606797749979, 'B'), (3.0, 'B'), (4.123105625617661, 'B')]\n",
      "[[12, 13], [15, 22], [20, 20], [22, 21], [19, 19], (21, 28), (28, 21), (23, 29), (25, 28), (28, 26), (23, 21), (27, 24), (29, 28), (24, 24), (22, 22), (25, 27), (24, 26), (29, 25)]\n",
      "point:  [12, 13]\n",
      "[[15, 22], [20, 20], [22, 21], [19, 19], (21, 28), (28, 21), (23, 29), (25, 28), (28, 26), (23, 21), (27, 24), (29, 28), (24, 24), (22, 22), (25, 27), (24, 26), (29, 25)]\n",
      "[(0.0, 'B'), (1.0, 'A'), (3.605551275463989, 'A'), (5.385164807134504, 'A'), (8.0, 'A')]\n",
      "point removed : [12, 13]\n",
      "[[15, 22], [20, 20], [22, 21], [19, 19], (21, 28), (28, 21), (23, 29), (25, 28), (28, 26), (23, 21), (27, 24), (29, 28), (24, 24), (22, 22), (25, 27), (24, 26), (29, 25)]\n",
      "point:  [15, 22]\n",
      "[[20, 20], [22, 21], [19, 19], (21, 28), (28, 21), (23, 29), (25, 28), (28, 26), (23, 21), (27, 24), (29, 28), (24, 24), (22, 22), (25, 27), (24, 26), (29, 25)]\n",
      "[(0.0, 'B'), (2.8284271247461903, 'A'), (3.1622776601683795, 'A'), (5.0, 'B'), (5.385164807134504, 'B')]\n",
      "[[20, 20], [22, 21], [19, 19], (21, 28), (28, 21), (23, 29), (25, 28), (28, 26), (23, 21), (27, 24), (29, 28), (24, 24), (22, 22), (25, 27), (24, 26), (29, 25), [15, 22]]\n",
      "point:  [20, 20]\n",
      "[[22, 21], [19, 19], (21, 28), (28, 21), (23, 29), (25, 28), (28, 26), (23, 21), (27, 24), (29, 28), (24, 24), (22, 22), (25, 27), (24, 26), (29, 25), [15, 22]]\n",
      "[(0.0, 'B'), (1.4142135623730951, 'B'), (2.23606797749979, 'B'), (2.8284271247461903, 'B'), (3.0, 'A')]\n",
      "[[22, 21], [19, 19], (21, 28), (28, 21), (23, 29), (25, 28), (28, 26), (23, 21), (27, 24), (29, 28), (24, 24), (22, 22), (25, 27), (24, 26), (29, 25), [15, 22], [20, 20]]\n",
      "point:  [22, 21]\n",
      "[[19, 19], (21, 28), (28, 21), (23, 29), (25, 28), (28, 26), (23, 21), (27, 24), (29, 28), (24, 24), (22, 22), (25, 27), (24, 26), (29, 25), [15, 22], [20, 20]]\n",
      "[(0.0, 'B'), (1.0, 'B'), (1.0, 'B'), (2.23606797749979, 'B'), (3.605551275463989, 'B')]\n",
      "class B without noise:  [[19, 19], (21, 28), (28, 21), (23, 29), (25, 28), (28, 26), (23, 21), (27, 24), (29, 28), (24, 24), (22, 22), (25, 27), (24, 26), (29, 25), [15, 22], [20, 20], [22, 21]]\n"
     ]
    },
    {
     "data": {
      "text/plain": [
       "[<matplotlib.lines.Line2D at 0x7fdd21e22160>,\n",
       " <matplotlib.lines.Line2D at 0x7fdd21e221f0>]"
      ]
     },
     "execution_count": 350,
     "metadata": {},
     "output_type": "execute_result"
    },
    {
     "data": {
      "image/png": "[encoded data removed]",
      "text/plain": [
       "<Figure size 432x288 with 1 Axes>"
      ]
     },
     "metadata": {
      "needs_background": "light"
     },
     "output_type": "display_data"
    }
   ],
   "source": [
    "import numpy as np\n",
    "\n",
    "point=[]\n",
    "for i in range(0,len(B)-1):\n",
    "    print(B)\n",
    "    point= B[0]\n",
    "    print(\"point: \",point)\n",
    "    del B[0]  \n",
    "    print(B)\n",
    "    i+=1\n",
    "    if knnfunction(point,5)==\"B\":\n",
    "        B.append(point)\n",
    "    else:\n",
    "        print(\"point removed :\", point)\n",
    "        \n",
    "        \n",
    "print(\"class B without noise: \", B)    \n",
    "\n",
    "plt.plot(B, color='green', linestyle='none', linewidth = 3,\n",
    "         marker='o', markerfacecolor='blue', markersize=12)\n",
    "plt.plot(A, color='green', linestyle='none', linewidth = 3,\n",
    "         marker='o', markerfacecolor='green', markersize=12)\n",
    "\n",
    "    "
   ]
  },
  {
   "cell_type": "code",
   "execution_count": 351,
   "id": "ac95abd8",
   "metadata": {},
   "outputs": [
    {
     "data": {
      "text/plain": [
       "[<matplotlib.lines.Line2D at 0x7fdd21ef7be0>,\n",
       " <matplotlib.lines.Line2D at 0x7fdd21ef7c70>]"
      ]
     },
     "execution_count": 351,
     "metadata": {},
     "output_type": "execute_result"
    },
    {
     "data": {
      "image/png": "[encoded data removed]",
      "text/plain": [
       "<Figure size 432x288 with 1 Axes>"
      ]
     },
     "metadata": {
      "needs_background": "light"
     },
     "output_type": "display_data"
    }
   ],
   "source": [
    "plt.plot(A, color='green', linestyle='none', linewidth = 3,\n",
    "         marker='o', markerfacecolor='blue', markersize=12)\n",
    "plt.plot(B, color='green', linestyle='none', linewidth = 3,\n",
    "         marker='o', markerfacecolor='green', markersize=12)\n",
    "\n"
   ]
  },
  {
   "cell_type": "code",
   "execution_count": null,
   "id": "4f61267d",
   "metadata": {},
   "outputs": [],
   "source": []
  }
 ],
 "metadata": {
  "kernelspec": {
   "display_name": "Python 3",
   "language": "python",
   "name": "python3"
  },
  "language_info": {
   "codemirror_mode": {
    "name": "ipython",
    "version": 3
   },
   "file_extension": ".py",
   "mimetype": "text/x-python",
   "name": "python",
   "nbconvert_exporter": "python",
   "pygments_lexer": "ipython3",
   "version": "3.8.8"
  }
 },
 "nbformat": 4,
 "nbformat_minor": 5
}
